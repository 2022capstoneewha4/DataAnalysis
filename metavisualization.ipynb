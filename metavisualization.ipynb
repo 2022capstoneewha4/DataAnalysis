import pandas as pd
import matplotlib.pyplot as plt

csv_meta = pd.read_csv("/content/drive/MyDrive/2022-코딩 과제들/sequences.csv")

csv_meta.head()

csv_meta['Pangolin'].head()
Pangolin_data = pd.DataFrame(csv_meta.groupby('Pangolin').size())
Pangolin_data.head()

Pangolin_data.columns = ['sum']
Pangolin_data.plot.bar(y='sum', rot=0)
ax = Pangolin_data.plot(kind='bar', title='Pangolin Frequency', figsize = (60, 4), legend = True, fontsize = 12)
